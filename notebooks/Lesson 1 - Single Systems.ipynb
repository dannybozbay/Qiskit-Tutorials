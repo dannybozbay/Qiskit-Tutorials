{
 "cells": [
  {
   "cell_type": "markdown",
   "source": [
    "## Vectors and Matrices in Python"
   ],
   "metadata": {
    "collapsed": false
   },
   "id": "ca07d731a05951d9"
  },
  {
   "cell_type": "code",
   "outputs": [],
   "source": [
    "import numpy as np"
   ],
   "metadata": {
    "collapsed": false,
    "ExecuteTime": {
     "end_time": "2024-03-21T15:54:39.531001Z",
     "start_time": "2024-03-21T15:54:39.514114Z"
    }
   },
   "id": "f65fe7fac253ea05",
   "execution_count": 115
  },
  {
   "cell_type": "code",
   "outputs": [
    {
     "data": {
      "text/plain": "array([0.5, 0.5])"
     },
     "metadata": {},
     "output_type": "display_data"
    }
   ],
   "source": [
    "# Qubit state vectors:  ∣0⟩ and ∣1⟩\n",
    "ket0 = np.array([1, 0])\n",
    "ket1 = np.array([0, 1])\n",
    "\n",
    "# Average of ∣0⟩ and ∣1⟩\n",
    "display(ket0 / 2 + ket1 / 2)"
   ],
   "metadata": {
    "collapsed": false,
    "ExecuteTime": {
     "end_time": "2024-03-21T15:54:39.631132Z",
     "start_time": "2024-03-21T15:54:39.617065Z"
    }
   },
   "id": "e91b502855447f0f",
   "execution_count": 116
  },
  {
   "cell_type": "code",
   "outputs": [
    {
     "data": {
      "text/plain": "array([[1. , 1. ],\n       [0.5, 0. ]])"
     },
     "metadata": {},
     "output_type": "display_data"
    }
   ],
   "source": [
    " # Matrices (i.e. operations)\n",
    "M1 = np.array([[1, 1], [0, 0]])\n",
    "M2 = np.array([[1, 1], [1, 0]])\n",
    "\n",
    "# Average of M1 and M2\n",
    "display(M1 / 2 + M2 / 2)"
   ],
   "metadata": {
    "collapsed": false,
    "ExecuteTime": {
     "end_time": "2024-03-21T15:54:39.640273Z",
     "start_time": "2024-03-21T15:54:39.634072Z"
    }
   },
   "id": "ed990cacc4cfc300",
   "execution_count": 117
  },
  {
   "cell_type": "code",
   "outputs": [
    {
     "data": {
      "text/plain": "array([1, 0])"
     },
     "metadata": {},
     "output_type": "display_data"
    },
    {
     "data": {
      "text/plain": "array([[2, 1],\n       [0, 0]])"
     },
     "metadata": {},
     "output_type": "display_data"
    },
    {
     "data": {
      "text/plain": "array([[1, 1],\n       [1, 1]])"
     },
     "metadata": {},
     "output_type": "display_data"
    }
   ],
   "source": [
    "# Matrix multiplication\n",
    "display(np.matmul(M1, ket1))\n",
    "display(np.matmul(M1, M2))\n",
    "display(np.matmul(M2, M1))"
   ],
   "metadata": {
    "collapsed": false,
    "ExecuteTime": {
     "end_time": "2024-03-21T15:54:39.665401Z",
     "start_time": "2024-03-21T15:54:39.655786Z"
    }
   },
   "id": "c708c6d0aae68561",
   "execution_count": 118
  },
  {
   "cell_type": "markdown",
   "source": [
    "## States, measurements, and operations"
   ],
   "metadata": {
    "collapsed": false
   },
   "id": "644338b7dd27045f"
  },
  {
   "cell_type": "markdown",
   "source": [
    "### Defining and displaying state vectors"
   ],
   "metadata": {
    "collapsed": false
   },
   "id": "9e24f0841c201138"
  },
  {
   "cell_type": "code",
   "outputs": [],
   "source": [
    "from qiskit.quantum_info import Statevector\n",
    "from numpy import sqrt"
   ],
   "metadata": {
    "collapsed": false,
    "ExecuteTime": {
     "end_time": "2024-03-21T15:54:39.677603Z",
     "start_time": "2024-03-21T15:54:39.672468Z"
    }
   },
   "id": "3ad8de90eebb016",
   "execution_count": 119
  },
  {
   "cell_type": "code",
   "outputs": [
    {
     "name": "stdout",
     "output_type": "stream",
     "text": [
      "State vectors u, v, and w have been defined.\n"
     ]
    }
   ],
   "source": [
    "# Defining state vectors with QisKit's Statevector class\n",
    "u = Statevector([1 / sqrt(2), 1 / sqrt(2)])\n",
    "v = Statevector([(1 + 2.0j) / 3, -2 / 3])\n",
    "w = Statevector([1 / 3, 2 / 3])\n",
    "\n",
    "print(\"State vectors u, v, and w have been defined.\")"
   ],
   "metadata": {
    "collapsed": false,
    "ExecuteTime": {
     "end_time": "2024-03-21T15:54:39.690177Z",
     "start_time": "2024-03-21T15:54:39.685716Z"
    }
   },
   "id": "f232d102142cd288",
   "execution_count": 120
  },
  {
   "cell_type": "code",
   "outputs": [
    {
     "data": {
      "text/plain": "<IPython.core.display.Latex object>",
      "text/latex": "$$\\frac{\\sqrt{2}}{2} |0\\rangle+\\frac{\\sqrt{2}}{2} |1\\rangle$$"
     },
     "metadata": {},
     "output_type": "display_data"
    },
    {
     "data": {
      "text/plain": "<IPython.core.display.Latex object>",
      "text/latex": "$$(\\frac{1}{3} + \\frac{2 i}{3}) |0\\rangle- \\frac{2}{3} |1\\rangle$$"
     },
     "metadata": {},
     "output_type": "display_data"
    },
    {
     "data": {
      "text/plain": "[0.33333333+0.j,0.66666667+0.j]"
     },
     "metadata": {},
     "output_type": "display_data"
    }
   ],
   "source": [
    "# Visualising or \"drawing\" QisKit's Statevectors\n",
    "display(u.draw(\"latex\"))\n",
    "display(v.draw(\"latex\"))\n",
    "display(w.draw(\"text\"))"
   ],
   "metadata": {
    "collapsed": false,
    "ExecuteTime": {
     "end_time": "2024-03-21T15:54:39.776017Z",
     "start_time": "2024-03-21T15:54:39.692369Z"
    }
   },
   "id": "b7d72de059e4ea86",
   "execution_count": 121
  },
  {
   "cell_type": "code",
   "outputs": [
    {
     "data": {
      "text/plain": "True"
     },
     "metadata": {},
     "output_type": "display_data"
    },
    {
     "data": {
      "text/plain": "True"
     },
     "metadata": {},
     "output_type": "display_data"
    },
    {
     "data": {
      "text/plain": "False"
     },
     "metadata": {},
     "output_type": "display_data"
    }
   ],
   "source": [
    "# Checking if the quantum states are valid (their Euclidian norms equal to 1)\n",
    "display(u.is_valid())\n",
    "display(v.is_valid())\n",
    "display(w.is_valid())"
   ],
   "metadata": {
    "collapsed": false,
    "ExecuteTime": {
     "end_time": "2024-03-21T15:54:39.789644Z",
     "start_time": "2024-03-21T15:54:39.779163Z"
    }
   },
   "id": "5cbf93c6e9ac06e0",
   "execution_count": 122
  },
  {
   "cell_type": "markdown",
   "source": [
    "### Simulating measurements using `Statevector`"
   ],
   "metadata": {
    "collapsed": false
   },
   "id": "3fcf1e0f28d4bf35"
  },
  {
   "cell_type": "code",
   "outputs": [
    {
     "data": {
      "text/plain": "<IPython.core.display.Latex object>",
      "text/latex": "$$(\\frac{1}{3} + \\frac{2 i}{3}) |0\\rangle- \\frac{2}{3} |1\\rangle$$"
     },
     "metadata": {},
     "output_type": "display_data"
    },
    {
     "data": {
      "text/plain": "True"
     },
     "metadata": {},
     "output_type": "display_data"
    }
   ],
   "source": [
    "# Defining a Qubit vector\n",
    "v = Statevector([(1 + 2.0j) / 3, -2 / 3])\n",
    "\n",
    "display(v.draw(\"latex\"))\n",
    "display(v.is_valid())"
   ],
   "metadata": {
    "collapsed": false,
    "ExecuteTime": {
     "end_time": "2024-03-21T15:54:39.805436Z",
     "start_time": "2024-03-21T15:54:39.792528Z"
    }
   },
   "id": "85c38b042553d82e",
   "execution_count": 123
  },
  {
   "cell_type": "code",
   "outputs": [
    {
     "data": {
      "text/plain": "('1',\n Statevector([ 0.+0.j, -1.+0.j],\n             dims=(2,)))"
     },
     "execution_count": 124,
     "metadata": {},
     "output_type": "execute_result"
    }
   ],
   "source": [
    "# Simulate a standard basis measurement\n",
    "v.measure()"
   ],
   "metadata": {
    "collapsed": false,
    "ExecuteTime": {
     "end_time": "2024-03-21T15:54:39.814850Z",
     "start_time": "2024-03-21T15:54:39.809538Z"
    }
   },
   "id": "b8dd415c7202da6f",
   "execution_count": 124
  },
  {
   "cell_type": "code",
   "outputs": [
    {
     "data": {
      "text/plain": "{'0': 511, '1': 489}"
     },
     "metadata": {},
     "output_type": "display_data"
    },
    {
     "data": {
      "text/plain": "<Figure size 700x500 with 1 Axes>",
      "image/png": "[encoded data removed]"
     },
     "execution_count": 125,
     "metadata": {},
     "output_type": "execute_result"
    }
   ],
   "source": [
    "from qiskit.visualization import plot_histogram\n",
    "\n",
    "# Simulate 1000 standard basis measurements (expect approx 556/1000 to be 0 and 444/1000 to be 1)\n",
    "v_statistics = v.sample_counts(1000)\n",
    "display(v_statistics)\n",
    "plot_histogram(v_statistics)"
   ],
   "metadata": {
    "collapsed": false,
    "ExecuteTime": {
     "end_time": "2024-03-21T15:54:39.943119Z",
     "start_time": "2024-03-21T15:54:39.816551Z"
    }
   },
   "id": "77bbb339a9ab10e3",
   "execution_count": 125
  },
  {
   "cell_type": "markdown",
   "source": [
    "### Performing operations with  Operator  and  Statevector"
   ],
   "metadata": {
    "collapsed": false
   },
   "id": "a405a112448912ca"
  },
  {
   "cell_type": "markdown",
   "source": [],
   "metadata": {
    "collapsed": false
   },
   "id": "f8324885a337607f"
  },
  {
   "cell_type": "code",
   "outputs": [
    {
     "data": {
      "text/plain": "[ 0.85355339+0.35355339j,-0.35355339+0.14644661j]"
     },
     "execution_count": 126,
     "metadata": {},
     "output_type": "execute_result"
    }
   ],
   "source": [
    "from qiskit.quantum_info import Operator\n",
    "\n",
    "# Pauli operators\n",
    "X = Operator([[0, 1], [1, 0]])\n",
    "Y = Operator([[0, -1.0j], [1.0j, 0]])   \n",
    "Z = Operator([[1, 0], [0, -1]])\n",
    "\n",
    "# Hadamard operator\n",
    "H = Operator([[1 / sqrt(2), 1 / sqrt(2)], [1 / sqrt(2), -1 / sqrt(2)]])\n",
    "\n",
    "# Phase operators\n",
    "S = Operator([[1, 0], [0, 1.0j]])\n",
    "T = Operator([[1, 0], [0, (1 + 1.0j) / sqrt(2)]])\n",
    "\n",
    "# Quantum state vector\n",
    "v = Statevector([1, 0])\n",
    "\n",
    "# Performing operations on the state vector (i.e. evolving the quantum system)\n",
    "v = v.evolve(H)\n",
    "v = v.evolve(T)\n",
    "v = v.evolve(H)\n",
    "v = v.evolve(T)\n",
    "v = v.evolve(Z)\n",
    "\n",
    "v.draw(\"text\")"
   ],
   "metadata": {
    "collapsed": false,
    "ExecuteTime": {
     "end_time": "2024-03-21T15:54:39.953959Z",
     "start_time": "2024-03-21T15:54:39.944734Z"
    }
   },
   "id": "1857959fa19435c4",
   "execution_count": 126
  },
  {
   "cell_type": "markdown",
   "source": [
    "### Looking ahead to quantum circuits"
   ],
   "metadata": {
    "collapsed": false
   },
   "id": "6a1b547574831ee2"
  },
  {
   "cell_type": "code",
   "outputs": [
    {
     "data": {
      "text/plain": "   ┌───┐┌───┐┌───┐┌───┐┌───┐\nq: ┤ H ├┤ T ├┤ H ├┤ T ├┤ Z ├\n   └───┘└───┘└───┘└───┘└───┘",
      "text/html": "<pre style=\"word-wrap: normal;white-space: pre;background: #fff0;line-height: 1.1;font-family: &quot;Courier New&quot;,Courier,monospace\">   ┌───┐┌───┐┌───┐┌───┐┌───┐\nq: ┤ H ├┤ T ├┤ H ├┤ T ├┤ Z ├\n   └───┘└───┘└───┘└───┘└───┘</pre>"
     },
     "execution_count": 127,
     "metadata": {},
     "output_type": "execute_result"
    }
   ],
   "source": [
    "from qiskit import QuantumCircuit\n",
    "\n",
    "# Build a quantum circuit (which in this case will simply be a sequence of unitary operations performed on a single qubit)\n",
    "circuit = QuantumCircuit(1)\n",
    "\n",
    "# Adding operations to the circuit\n",
    "circuit.h(0)\n",
    "circuit.t(0)\n",
    "circuit.h(0)\n",
    "circuit.t(0)\n",
    "circuit.z(0)\n",
    "\n",
    "# Visualising the circuit\n",
    "circuit.draw()"
   ],
   "metadata": {
    "collapsed": false,
    "ExecuteTime": {
     "end_time": "2024-03-21T15:54:39.963128Z",
     "start_time": "2024-03-21T15:54:39.955743Z"
    }
   },
   "id": "9eaf9cc8e978cda8",
   "execution_count": 127
  },
  {
   "cell_type": "code",
   "outputs": [
    {
     "data": {
      "text/plain": "[ 0.85355339+0.35355339j,-0.35355339+0.14644661j]"
     },
     "execution_count": 128,
     "metadata": {},
     "output_type": "execute_result"
    }
   ],
   "source": [
    "# Initialise a quantum state vector\n",
    "ket0 = Statevector([1, 0])\n",
    "\n",
    "# Evolve the state according to the sequence of operations in the circuit\n",
    "v = ket0.evolve(circuit)\n",
    "\n",
    "v.draw(\"text\")"
   ],
   "metadata": {
    "collapsed": false,
    "ExecuteTime": {
     "end_time": "2024-03-21T15:54:39.971694Z",
     "start_time": "2024-03-21T15:54:39.964806Z"
    }
   },
   "id": "c12afe0a4eab7184",
   "execution_count": 128
  },
  {
   "cell_type": "code",
   "outputs": [
    {
     "data": {
      "text/plain": "<Figure size 700x500 with 1 Axes>",
      "image/png": "[encoded data removed]"
     },
     "execution_count": 129,
     "metadata": {},
     "output_type": "execute_result"
    }
   ],
   "source": [
    "# Simulate the result of running this experiment 4000 times\n",
    "v_statistics = v.sample_counts(4000)\n",
    "plot_histogram(v_statistics)"
   ],
   "metadata": {
    "collapsed": false,
    "ExecuteTime": {
     "end_time": "2024-03-21T15:54:40.105544Z",
     "start_time": "2024-03-21T15:54:39.973661Z"
    }
   },
   "id": "389b154c240bf51d",
   "execution_count": 129
  }
 ],
 "metadata": {
  "kernelspec": {
   "display_name": "Python 3",
   "language": "python",
   "name": "python3"
  },
  "language_info": {
   "codemirror_mode": {
    "name": "ipython",
    "version": 2
   },
   "file_extension": ".py",
   "mimetype": "text/x-python",
   "name": "python",
   "nbconvert_exporter": "python",
   "pygments_lexer": "ipython2",
   "version": "2.7.6"
  }
 },
 "nbformat": 4,
 "nbformat_minor": 5
}
