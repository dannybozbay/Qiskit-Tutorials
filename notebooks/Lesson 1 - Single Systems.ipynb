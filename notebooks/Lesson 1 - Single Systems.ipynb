{
 "cells": [
  {
   "cell_type": "markdown",
   "source": [
    "## **Table of Contents**\n",
    "* [Vectors and Matrices](#1)\n",
    "* [States, Measurements and Operations](#2)"
   ],
   "metadata": {
    "collapsed": false
   },
   "id": "ccec59d1fb09fbbd"
  },
  {
   "cell_type": "markdown",
   "source": [
    "<a id='1'></a>\n",
    "## Vectors and Matrices"
   ],
   "metadata": {
    "collapsed": false
   },
   "id": "ca07d731a05951d9"
  },
  {
   "cell_type": "markdown",
   "source": [
    " In Python, matrix and vector computations can be performed using the `array`  class from the  `NumPy`  library (which includes many additional components for numerical computation).\n",
    "\n",
    "Here is an example of a code cell that defines two vectors, `ket0` and `ket1`, corresponding to the qubit state vectors $∣0⟩$ and $∣1⟩$, and displays their average."
   ],
   "metadata": {
    "collapsed": false
   },
   "id": "7302b73f382ddc30"
  },
  {
   "cell_type": "code",
   "outputs": [],
   "source": [
    "import numpy as np"
   ],
   "metadata": {
    "collapsed": false,
    "ExecuteTime": {
     "end_time": "2024-03-29T12:23:47.051162Z",
     "start_time": "2024-03-29T12:23:47.045883Z"
    }
   },
   "id": "f65fe7fac253ea05",
   "execution_count": 16
  },
  {
   "cell_type": "code",
   "outputs": [
    {
     "data": {
      "text/plain": "array([0.5, 0.5])"
     },
     "metadata": {},
     "output_type": "display_data"
    }
   ],
   "source": [
    "# Qubit state vectors:  ∣0⟩ and ∣1⟩\n",
    "ket0 = np.array([1, 0])\n",
    "ket1 = np.array([0, 1])\n",
    "\n",
    "# Average of ∣0⟩ and ∣1⟩\n",
    "display(ket0 / 2 + ket1 / 2)"
   ],
   "metadata": {
    "collapsed": false,
    "ExecuteTime": {
     "end_time": "2024-03-29T12:23:47.203032Z",
     "start_time": "2024-03-29T12:23:47.191617Z"
    }
   },
   "id": "e91b502855447f0f",
   "execution_count": 17
  },
  {
   "cell_type": "markdown",
   "source": [
    "We can also use `array`  to create matrices that represent operations."
   ],
   "metadata": {
    "collapsed": false
   },
   "id": "a8b275a3c07047a6"
  },
  {
   "cell_type": "code",
   "outputs": [
    {
     "data": {
      "text/plain": "array([[1. , 1. ],\n       [0.5, 0. ]])"
     },
     "metadata": {},
     "output_type": "display_data"
    }
   ],
   "source": [
    " # Matrices (i.e. operations)\n",
    "M1 = np.array([[1, 1], [0, 0]])\n",
    "M2 = np.array([[1, 1], [1, 0]])\n",
    "\n",
    "# Average of M1 and M2\n",
    "display(M1 / 2 + M2 / 2)"
   ],
   "metadata": {
    "collapsed": false,
    "ExecuteTime": {
     "end_time": "2024-03-29T12:23:47.250904Z",
     "start_time": "2024-03-29T12:23:47.238914Z"
    }
   },
   "id": "ed990cacc4cfc300",
   "execution_count": 18
  },
  {
   "cell_type": "markdown",
   "source": [
    "Matrix multiplication (including matrix-vector multiplication as a special case) can be performed using the `matmul` function from  `NumPy`:"
   ],
   "metadata": {
    "collapsed": false
   },
   "id": "49813de13228fd72"
  },
  {
   "cell_type": "code",
   "outputs": [
    {
     "data": {
      "text/plain": "array([1, 0])"
     },
     "metadata": {},
     "output_type": "display_data"
    },
    {
     "data": {
      "text/plain": "array([[2, 1],\n       [0, 0]])"
     },
     "metadata": {},
     "output_type": "display_data"
    },
    {
     "data": {
      "text/plain": "array([[1, 1],\n       [1, 1]])"
     },
     "metadata": {},
     "output_type": "display_data"
    }
   ],
   "source": [
    "# Matrix multiplication\n",
    "display(np.matmul(M1, ket1))\n",
    "display(np.matmul(M1, M2))\n",
    "display(np.matmul(M2, M1))"
   ],
   "metadata": {
    "collapsed": false,
    "ExecuteTime": {
     "end_time": "2024-03-29T12:23:47.346262Z",
     "start_time": "2024-03-29T12:23:47.329524Z"
    }
   },
   "id": "c708c6d0aae68561",
   "execution_count": 19
  },
  {
   "cell_type": "markdown",
   "source": [
    "<a id='2'></a>\n",
    "## States, Measurements and Operations"
   ],
   "metadata": {
    "collapsed": false
   },
   "id": "644338b7dd27045f"
  },
  {
   "cell_type": "markdown",
   "source": [
    "### Defining and displaying state vectors"
   ],
   "metadata": {
    "collapsed": false
   },
   "id": "9e24f0841c201138"
  },
  {
   "cell_type": "markdown",
   "source": [
    "Qiskit's `Statevector` class provides functionality for defining and manipulating quantum state vectors. The following code cell imports the `Statevector` class and defines a few vectors using it. "
   ],
   "metadata": {
    "collapsed": false
   },
   "id": "e7ca55c6436d52f5"
  },
  {
   "cell_type": "code",
   "outputs": [],
   "source": [
    "from qiskit.quantum_info import Statevector\n",
    "from numpy import sqrt"
   ],
   "metadata": {
    "collapsed": false,
    "ExecuteTime": {
     "end_time": "2024-03-29T12:23:47.409598Z",
     "start_time": "2024-03-29T12:23:47.404052Z"
    }
   },
   "id": "3ad8de90eebb016",
   "execution_count": 20
  },
  {
   "cell_type": "code",
   "outputs": [
    {
     "name": "stdout",
     "output_type": "stream",
     "text": [
      "State vectors u, v, and w have been defined.\n"
     ]
    }
   ],
   "source": [
    "# Defining state vectors with QisKit's Statevector class\n",
    "u = Statevector([1 / sqrt(2), 1 / sqrt(2)])\n",
    "v = Statevector([(1 + 2.0j) / 3, -2 / 3])\n",
    "w = Statevector([1 / 3, 2 / 3])\n",
    "\n",
    "print(\"State vectors u, v, and w have been defined.\")"
   ],
   "metadata": {
    "collapsed": false,
    "ExecuteTime": {
     "end_time": "2024-03-29T12:23:47.456067Z",
     "start_time": "2024-03-29T12:23:47.450358Z"
    }
   },
   "id": "f232d102142cd288",
   "execution_count": 21
  },
  {
   "cell_type": "markdown",
   "source": [
    "The `Statevector` class provides a `draw`  method for displaying state vectors, including `latex` and `text` options for different visualizations, as this code cell demonstrates:"
   ],
   "metadata": {
    "collapsed": false
   },
   "id": "521c89c19f5fff3e"
  },
  {
   "cell_type": "code",
   "outputs": [
    {
     "data": {
      "text/plain": "<IPython.core.display.Latex object>",
      "text/latex": "$$\\frac{\\sqrt{2}}{2} |0\\rangle+\\frac{\\sqrt{2}}{2} |1\\rangle$$"
     },
     "metadata": {},
     "output_type": "display_data"
    },
    {
     "data": {
      "text/plain": "<IPython.core.display.Latex object>",
      "text/latex": "$$(\\frac{1}{3} + \\frac{2 i}{3}) |0\\rangle- \\frac{2}{3} |1\\rangle$$"
     },
     "metadata": {},
     "output_type": "display_data"
    },
    {
     "data": {
      "text/plain": "[0.33333333+0.j,0.66666667+0.j]"
     },
     "metadata": {},
     "output_type": "display_data"
    }
   ],
   "source": [
    "# Visualising or \"drawing\" QisKit's Statevectors\n",
    "display(u.draw(\"latex\"))\n",
    "display(v.draw(\"latex\"))\n",
    "display(w.draw(\"text\"))"
   ],
   "metadata": {
    "collapsed": false,
    "ExecuteTime": {
     "end_time": "2024-03-29T12:23:47.515316Z",
     "start_time": "2024-03-29T12:23:47.483230Z"
    }
   },
   "id": "b7d72de059e4ea86",
   "execution_count": 22
  },
  {
   "cell_type": "markdown",
   "source": [
    "The `Statevector` class also includes the `is_valid` method, which checks to see if a given vector is a valid quantum state vector (i.e., that it has Euclidean norm equal to 1):"
   ],
   "metadata": {
    "collapsed": false
   },
   "id": "b9c36a4d5cc5ae79"
  },
  {
   "cell_type": "code",
   "outputs": [
    {
     "data": {
      "text/plain": "True"
     },
     "metadata": {},
     "output_type": "display_data"
    },
    {
     "data": {
      "text/plain": "True"
     },
     "metadata": {},
     "output_type": "display_data"
    },
    {
     "data": {
      "text/plain": "False"
     },
     "metadata": {},
     "output_type": "display_data"
    }
   ],
   "source": [
    "# Checking if the quantum states are valid (their Euclidian norms equal to 1)\n",
    "display(u.is_valid())\n",
    "display(v.is_valid())\n",
    "display(w.is_valid())"
   ],
   "metadata": {
    "collapsed": false,
    "ExecuteTime": {
     "end_time": "2024-03-29T12:23:47.594533Z",
     "start_time": "2024-03-29T12:23:47.579758Z"
    }
   },
   "id": "5cbf93c6e9ac06e0",
   "execution_count": 23
  },
  {
   "cell_type": "markdown",
   "source": [
    "### Simulating measurements using `Statevector`"
   ],
   "metadata": {
    "collapsed": false
   },
   "id": "3fcf1e0f28d4bf35"
  },
  {
   "cell_type": "markdown",
   "source": [
    "Next we will see one way that measurements of quantum states can be simulated in Qiskit, using the `measure` method from the `Statevector` class.\n",
    "\n",
    "First, we create a qubit state vector `v` and then display it."
   ],
   "metadata": {
    "collapsed": false
   },
   "id": "1fd6b18149d1ea18"
  },
  {
   "cell_type": "code",
   "outputs": [
    {
     "data": {
      "text/plain": "<IPython.core.display.Latex object>",
      "text/latex": "$$(\\frac{1}{3} + \\frac{2 i}{3}) |0\\rangle- \\frac{2}{3} |1\\rangle$$"
     },
     "metadata": {},
     "output_type": "display_data"
    }
   ],
   "source": [
    "# Defining a Qubit vector\n",
    "v = Statevector([(1 + 2.0j) / 3, -2 / 3])\n",
    "\n",
    "display(v.draw(\"latex\"))"
   ],
   "metadata": {
    "collapsed": false,
    "ExecuteTime": {
     "end_time": "2024-03-29T12:23:47.618624Z",
     "start_time": "2024-03-29T12:23:47.603053Z"
    }
   },
   "id": "85c38b042553d82e",
   "execution_count": 24
  },
  {
   "cell_type": "markdown",
   "source": [
    "Next, running the `measure` method simulates a standard basis measurement. It returns the result of that measurement, plus the new quantum state of our system after that measurement."
   ],
   "metadata": {
    "collapsed": false
   },
   "id": "51a8eeb45e0716ba"
  },
  {
   "cell_type": "code",
   "outputs": [
    {
     "data": {
      "text/plain": "('1',\n Statevector([ 0.+0.j, -1.+0.j],\n             dims=(2,)))"
     },
     "execution_count": 25,
     "metadata": {},
     "output_type": "execute_result"
    }
   ],
   "source": [
    "# Simulate a standard basis measurement\n",
    "v.measure()"
   ],
   "metadata": {
    "collapsed": false,
    "ExecuteTime": {
     "end_time": "2024-03-29T12:23:47.678264Z",
     "start_time": "2024-03-29T12:23:47.667503Z"
    }
   },
   "id": "b8dd415c7202da6f",
   "execution_count": 25
  },
  {
   "cell_type": "markdown",
   "source": [
    "Measurement outcomes are probabilistic, so the same method can return different results. Helpfully, `Statevector` also comes with a `sample_counts` method that allows for the simulation of any number of measurements on the system. For example, the following cell shows the outcome of measuring the vector `v` 1000 times, which (with high probability) results in the outcome 0 approximately 5 out of every 9 (or about 556 of the 1000 trials) and the the outcome 1 approximately 4 out of every 9 times (or about 444 out of the 1000 trials). The cell also demonstrates the `plot_histogram`  function for visualizing the results."
   ],
   "metadata": {
    "collapsed": false
   },
   "id": "f6dfe498310aba93"
  },
  {
   "cell_type": "code",
   "outputs": [
    {
     "data": {
      "text/plain": "{'0': 580, '1': 420}"
     },
     "metadata": {},
     "output_type": "display_data"
    },
    {
     "data": {
      "text/plain": "<Figure size 700x500 with 1 Axes>",
      "image/png": "[encoded data removed]"
     },
     "execution_count": 26,
     "metadata": {},
     "output_type": "execute_result"
    }
   ],
   "source": [
    "from qiskit.visualization import plot_histogram\n",
    "\n",
    "# Simulate 1000 standard basis measurements (expect approx 556/1000 to be 0 and 444/1000 to be 1)\n",
    "v_statistics = v.sample_counts(1000)\n",
    "display(v_statistics)\n",
    "plot_histogram(v_statistics)"
   ],
   "metadata": {
    "collapsed": false,
    "ExecuteTime": {
     "end_time": "2024-03-29T12:23:47.897825Z",
     "start_time": "2024-03-29T12:23:47.705814Z"
    }
   },
   "id": "77bbb339a9ab10e3",
   "execution_count": 26
  },
  {
   "cell_type": "markdown",
   "source": [
    "### Performing operations with `Operator` and `Statevector`"
   ],
   "metadata": {
    "collapsed": false
   },
   "id": "a405a112448912ca"
  },
  {
   "cell_type": "markdown",
   "source": [
    "Unitary operations can be defined and performed on state vectors in Qiskit using the `Operator` class, as in the example that follows."
   ],
   "metadata": {
    "collapsed": false
   },
   "id": "f8324885a337607f"
  },
  {
   "cell_type": "code",
   "outputs": [
    {
     "data": {
      "text/plain": "[ 0.85355339+0.35355339j,-0.35355339+0.14644661j]"
     },
     "execution_count": 27,
     "metadata": {},
     "output_type": "execute_result"
    }
   ],
   "source": [
    "from qiskit.quantum_info import Operator\n",
    "\n",
    "# Pauli operators\n",
    "X = Operator([[0, 1], [1, 0]])\n",
    "Y = Operator([[0, -1.0j], [1.0j, 0]])   \n",
    "Z = Operator([[1, 0], [0, -1]])\n",
    "\n",
    "# Hadamard operator\n",
    "H = Operator([[1 / sqrt(2), 1 / sqrt(2)], [1 / sqrt(2), -1 / sqrt(2)]])\n",
    "\n",
    "# Phase operators\n",
    "S = Operator([[1, 0], [0, 1.0j]])\n",
    "T = Operator([[1, 0], [0, (1 + 1.0j) / sqrt(2)]])\n",
    "\n",
    "# Quantum state vector\n",
    "v = Statevector([1, 0])\n",
    "\n",
    "# Performing operations on the state vector (i.e. evolving the quantum system)\n",
    "v = v.evolve(H)\n",
    "v = v.evolve(T)\n",
    "v = v.evolve(H)\n",
    "v = v.evolve(T)\n",
    "v = v.evolve(Z)\n",
    "\n",
    "v.draw(\"text\")"
   ],
   "metadata": {
    "collapsed": false,
    "ExecuteTime": {
     "end_time": "2024-03-29T12:23:47.912947Z",
     "start_time": "2024-03-29T12:23:47.901494Z"
    }
   },
   "id": "1857959fa19435c4",
   "execution_count": 27
  },
  {
   "cell_type": "markdown",
   "source": [
    "### Looking ahead to quantum circuits"
   ],
   "metadata": {
    "collapsed": false
   },
   "id": "6a1b547574831ee2"
  },
  {
   "cell_type": "markdown",
   "source": [
    "Quantum circuits won't be formally introduced until Lesson 3, but we can nevertheless experiment with composing qubit unitary operations using Qiskit's `QuantumCircuit` class. In particular, we may define a quantum circuit (which in this case will simply be a sequence of unitary operations performed on a single qubit) as follows."
   ],
   "metadata": {
    "collapsed": false
   },
   "id": "88f8bf3e81884119"
  },
  {
   "cell_type": "code",
   "outputs": [
    {
     "data": {
      "text/plain": "<Figure size 519.897x117.056 with 1 Axes>",
      "image/png": "[encoded data removed]"
     },
     "execution_count": 28,
     "metadata": {},
     "output_type": "execute_result"
    }
   ],
   "source": [
    "from qiskit import QuantumCircuit\n",
    "\n",
    "# Build a quantum circuit (which in this case will simply be a sequence of unitary operations performed on a single qubit)\n",
    "circuit = QuantumCircuit(1)\n",
    "\n",
    "# Adding operations to the circuit\n",
    "circuit.h(0)\n",
    "circuit.t(0)\n",
    "circuit.h(0)\n",
    "circuit.t(0)\n",
    "circuit.z(0)\n",
    "\n",
    "# Visualising the circuit\n",
    "circuit.draw(output='mpl')"
   ],
   "metadata": {
    "collapsed": false,
    "ExecuteTime": {
     "end_time": "2024-03-29T12:23:48.259399Z",
     "start_time": "2024-03-29T12:23:47.915404Z"
    }
   },
   "id": "9eaf9cc8e978cda8",
   "execution_count": 28
  },
  {
   "cell_type": "markdown",
   "source": [
    "The operations are applied sequentially, starting on the left and ending on the right in the figure. Let us first initialize a starting quantum state vector and then evolve that state according to the sequence of operations."
   ],
   "metadata": {
    "collapsed": false
   },
   "id": "324d9f756bc27647"
  },
  {
   "cell_type": "code",
   "outputs": [
    {
     "data": {
      "text/plain": "[ 0.85355339+0.35355339j,-0.35355339+0.14644661j]"
     },
     "execution_count": 29,
     "metadata": {},
     "output_type": "execute_result"
    }
   ],
   "source": [
    "# Initialise a quantum state vector\n",
    "ket0 = Statevector([1, 0])\n",
    "\n",
    "# Evolve the state according to the sequence of operations in the circuit\n",
    "v = ket0.evolve(circuit)\n",
    "\n",
    "v.draw(\"text\")"
   ],
   "metadata": {
    "collapsed": false,
    "ExecuteTime": {
     "end_time": "2024-03-29T12:23:48.272204Z",
     "start_time": "2024-03-29T12:23:48.263933Z"
    }
   },
   "id": "c12afe0a4eab7184",
   "execution_count": 29
  },
  {
   "cell_type": "markdown",
   "source": [
    "Finally, let's simulate the result of running this experiment (i.e., preparing the state $∣0⟩$, applying the sequence of operations represented by the circuit, and measuring) 4000 times."
   ],
   "metadata": {
    "collapsed": false
   },
   "id": "49032bf4c1cb764"
  },
  {
   "cell_type": "code",
   "outputs": [
    {
     "data": {
      "text/plain": "<Figure size 700x500 with 1 Axes>",
      "image/png": "[encoded data removed]"
     },
     "execution_count": 30,
     "metadata": {},
     "output_type": "execute_result"
    }
   ],
   "source": [
    "# Simulate the result of running this experiment 4000 times\n",
    "v_statistics = v.sample_counts(4000)\n",
    "plot_histogram(v_statistics)"
   ],
   "metadata": {
    "collapsed": false,
    "ExecuteTime": {
     "end_time": "2024-03-29T12:23:48.440893Z",
     "start_time": "2024-03-29T12:23:48.274986Z"
    }
   },
   "id": "389b154c240bf51d",
   "execution_count": 30
  }
 ],
 "metadata": {
  "kernelspec": {
   "display_name": "Python 3",
   "language": "python",
   "name": "python3"
  },
  "language_info": {
   "codemirror_mode": {
    "name": "ipython",
    "version": 2
   },
   "file_extension": ".py",
   "mimetype": "text/x-python",
   "name": "python",
   "nbconvert_exporter": "python",
   "pygments_lexer": "ipython2",
   "version": "2.7.6"
  }
 },
 "nbformat": 4,
 "nbformat_minor": 5
}
