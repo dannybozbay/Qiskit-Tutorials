{
 "cells": [
  {
   "cell_type": "markdown",
   "source": [
    "## **Table of Contents**\n",
    "* [Tensor Products](#1)\n",
    "* [Partial Measurements](#2)"
   ],
   "metadata": {
    "collapsed": false
   },
   "id": "583792eeb10173e0"
  },
  {
   "cell_type": "markdown",
   "source": [
    "<a id='1'></a>\n",
    "## Tensor Products"
   ],
   "metadata": {
    "collapsed": false
   },
   "id": "8fe661fbf7e40440"
  },
  {
   "cell_type": "code",
   "outputs": [],
   "source": [
    "# Required imports\n",
    "from qiskit.quantum_info import Statevector, Operator\n",
    "from numpy import sqrt\n",
    "from qiskit.visualization import plot_histogram"
   ],
   "metadata": {
    "collapsed": true,
    "ExecuteTime": {
     "end_time": "2024-03-29T12:20:01.867768Z",
     "start_time": "2024-03-29T12:20:01.862741Z"
    }
   },
   "id": "initial_id",
   "execution_count": 50
  },
  {
   "cell_type": "markdown",
   "source": [
    "The `Statevector` class has a `tensor` method which returns the tensor product of itself and another `Statevector`. For example, below we create two state vectors representing $∣0⟩$ and $∣1⟩$, and use the `tensor` method to create a new vector $∣0⟩⊗∣1⟩$."
   ],
   "metadata": {
    "collapsed": false
   },
   "id": "78e8b494826dca43"
  },
  {
   "cell_type": "code",
   "outputs": [
    {
     "data": {
      "text/plain": "<IPython.core.display.Latex object>",
      "text/latex": "$$ |01\\rangle$$"
     },
     "execution_count": 51,
     "metadata": {},
     "output_type": "execute_result"
    }
   ],
   "source": [
    "# Create two state vectors ∣0⟩ and ∣1⟩\n",
    "zero, one = Statevector.from_label(\"0\"), Statevector.from_label(\"1\")\n",
    "\n",
    "# Return the tensor product ∣0⟩ ⊗ ∣1⟩\n",
    "zero.tensor(one).draw(\"latex\")"
   ],
   "metadata": {
    "collapsed": false,
    "ExecuteTime": {
     "end_time": "2024-03-29T12:20:01.920593Z",
     "start_time": "2024-03-29T12:20:01.909792Z"
    }
   },
   "id": "7be8767eaf55cfcd",
   "execution_count": 51
  },
  {
   "cell_type": "markdown",
   "source": [
    "In another example below, we create state vectors representing the $∣+⟩$ and $\\frac{1}{\\sqrt{2}}(∣0⟩ + i∣1⟩)$ states, and combine them to create a new state vector. We'll assign this new vector to the variable `psi`."
   ],
   "metadata": {
    "collapsed": false
   },
   "id": "935c4deebeb9ebe9"
  },
  {
   "cell_type": "code",
   "outputs": [
    {
     "data": {
      "text/plain": "<IPython.core.display.Latex object>",
      "text/latex": "$$\\frac{1}{2} |00\\rangle+\\frac{i}{2} |01\\rangle+\\frac{1}{2} |10\\rangle+\\frac{i}{2} |11\\rangle$$"
     },
     "execution_count": 52,
     "metadata": {},
     "output_type": "execute_result"
    }
   ],
   "source": [
    "plus = Statevector.from_label(\"+\")\n",
    "i_state = Statevector([1 / sqrt(2), 1j / sqrt(2)])\n",
    "\n",
    "psi = plus.tensor(i_state)\n",
    "psi.draw(\"latex\")"
   ],
   "metadata": {
    "collapsed": false,
    "ExecuteTime": {
     "end_time": "2024-03-29T12:20:01.949842Z",
     "start_time": "2024-03-29T12:20:01.928477Z"
    }
   },
   "id": "95a373cc2f8617ed",
   "execution_count": 52
  },
  {
   "cell_type": "markdown",
   "source": [
    "The `Operator` class also has a `tensor` method. In the example below, we create the $X$ and $I$ gates and display their tensor product."
   ],
   "metadata": {
    "collapsed": false
   },
   "id": "be1ae264a24ecc54"
  },
  {
   "cell_type": "code",
   "outputs": [
    {
     "name": "stdout",
     "output_type": "stream",
     "text": [
      "Operator([[0.+0.j, 0.+0.j, 1.+0.j, 0.+0.j],\n",
      "          [0.+0.j, 0.+0.j, 0.+0.j, 1.+0.j],\n",
      "          [1.+0.j, 0.+0.j, 0.+0.j, 0.+0.j],\n",
      "          [0.+0.j, 1.+0.j, 0.+0.j, 0.+0.j]],\n",
      "         input_dims=(2, 2), output_dims=(2, 2))\n"
     ]
    }
   ],
   "source": [
    "# Create X gate\n",
    "X = Operator([[0, 1], [1, 0]])\n",
    "\n",
    "# Create I gate\n",
    "I = Operator([[1, 0], [0, 1]])\n",
    "\n",
    "# Their tensor product\n",
    "X.tensor(I)"
   ],
   "metadata": {
    "collapsed": false,
    "ExecuteTime": {
     "end_time": "2024-03-29T12:20:01.974511Z",
     "start_time": "2024-03-29T12:20:01.966496Z"
    }
   },
   "id": "ba4697291e76a844",
   "execution_count": 53
  },
  {
   "cell_type": "markdown",
   "source": [
    "We can then treat these compound states and operations as we did single systems in the previous lesson. For example, in the cell below we calculate $(I⊗X)∣ψ⟩$ for the state `psi` we defined above (the ^ operator tensors matrices together)."
   ],
   "metadata": {
    "collapsed": false
   },
   "id": "f0377035305464fe"
  },
  {
   "cell_type": "code",
   "outputs": [
    {
     "data": {
      "text/plain": "<IPython.core.display.Latex object>",
      "text/latex": "$$\\frac{i}{2} |00\\rangle+\\frac{1}{2} |01\\rangle+\\frac{i}{2} |10\\rangle+\\frac{1}{2} |11\\rangle$$"
     },
     "execution_count": 54,
     "metadata": {},
     "output_type": "execute_result"
    }
   ],
   "source": [
    "# Compute (I⊗X)∣ψ⟩\n",
    "psi.evolve(I ^ X).draw(\"latex\")"
   ],
   "metadata": {
    "collapsed": false,
    "ExecuteTime": {
     "end_time": "2024-03-29T12:20:02.020527Z",
     "start_time": "2024-03-29T12:20:01.994694Z"
    }
   },
   "id": "239e038b291b376d",
   "execution_count": 54
  },
  {
   "cell_type": "markdown",
   "source": [
    "Below, we create a $CX$ operator and calculate $CX∣ψ⟩$."
   ],
   "metadata": {
    "collapsed": false
   },
   "id": "d2bcc7c7038770f8"
  },
  {
   "cell_type": "code",
   "outputs": [
    {
     "data": {
      "text/plain": "<IPython.core.display.Latex object>",
      "text/latex": "$$\\frac{1}{2} |00\\rangle+\\frac{i}{2} |01\\rangle+\\frac{i}{2} |10\\rangle+\\frac{1}{2} |11\\rangle$$"
     },
     "execution_count": 55,
     "metadata": {},
     "output_type": "execute_result"
    }
   ],
   "source": [
    "# Create CV operator and calculate CX∣ψ⟩\n",
    "CX = Operator(\n",
    "    [\n",
    "        [1, 0, 0, 0],\n",
    "        [0, 1, 0, 0],\n",
    "        [0, 0, 0, 1],\n",
    "        [0, 0, 1, 0],\n",
    "    ]\n",
    ")\n",
    "\n",
    "psi.evolve(CX).draw(\"latex\")"
   ],
   "metadata": {
    "collapsed": false,
    "ExecuteTime": {
     "end_time": "2024-03-29T12:20:02.047657Z",
     "start_time": "2024-03-29T12:20:02.024320Z"
    }
   },
   "id": "7af83331a9de0b32",
   "execution_count": 55
  },
  {
   "cell_type": "markdown",
   "source": [
    "<a id='2'></a>\n",
    "## Partial Measurements"
   ],
   "metadata": {
    "collapsed": false
   },
   "id": "c8a3813108d0a618"
  },
  {
   "cell_type": "markdown",
   "source": [
    "In the previous page, we used the `measure` method to simulate a measurement of the quantum state vector. This method returns two items: the simulated measurement result, and the new `Statevector` given this measurement.\n",
    "\n",
    "By default, `measure`  measures all qubits in the state vector, but we can provide a list of integers to only measure the qubits at those indices. To demonstrate, the cell below creates the state $W = \\frac{1}{\\sqrt{3}}(∣001⟩ + ∣010⟩ + ∣100⟩)$."
   ],
   "metadata": {
    "collapsed": false
   },
   "id": "1ac20ac7f68e739b"
  },
  {
   "cell_type": "code",
   "outputs": [
    {
     "data": {
      "text/plain": "<IPython.core.display.Latex object>",
      "text/latex": "$$\\frac{\\sqrt{3}}{3} |001\\rangle+\\frac{\\sqrt{3}}{3} |010\\rangle+\\frac{\\sqrt{3}}{3} |100\\rangle$$"
     },
     "execution_count": 56,
     "metadata": {},
     "output_type": "execute_result"
    }
   ],
   "source": [
    "# Create a quantum state\n",
    "W = Statevector([0, 1, 1, 0, 1, 0, 0, 0] / sqrt(3))\n",
    "W.draw(\"latex\")"
   ],
   "metadata": {
    "collapsed": false,
    "ExecuteTime": {
     "end_time": "2024-03-29T12:20:02.125455Z",
     "start_time": "2024-03-29T12:20:02.090141Z"
    }
   },
   "id": "cba1431cf43363f5",
   "execution_count": 56
  },
  {
   "cell_type": "markdown",
   "source": [
    "The cell below simulates a measurement on the rightmost qubit (which has index 0). The other two qubits are not measured."
   ],
   "metadata": {
    "collapsed": false
   },
   "id": "982de4b9fa1e13ca"
  },
  {
   "cell_type": "code",
   "outputs": [
    {
     "name": "stdout",
     "output_type": "stream",
     "text": [
      "Measured: 1\n",
      "State after measurement:\n"
     ]
    },
    {
     "data": {
      "text/plain": "<IPython.core.display.Latex object>",
      "text/latex": "$$ |001\\rangle$$"
     },
     "execution_count": 57,
     "metadata": {},
     "output_type": "execute_result"
    }
   ],
   "source": [
    "# Simulate a measurement on the rightmost qubit (which has index 0) only\n",
    "result, new_state = W.measure([0])\n",
    "print(f\"Measured: {result}\\nState after measurement:\")\n",
    "new_state.draw(\"latex\")"
   ],
   "metadata": {
    "collapsed": false,
    "ExecuteTime": {
     "end_time": "2024-03-29T12:20:02.197554Z",
     "start_time": "2024-03-29T12:20:02.174391Z"
    }
   },
   "id": "71513d381f285f2d",
   "execution_count": 57
  },
  {
   "cell_type": "markdown",
   "source": [
    "Try running the cell a few times to see different results. Notice that measuring a `1` means that we know both the other qubits are $∣0⟩$, but measuring a `0` means the remaining two qubits are in the state $\\frac{1}{\\sqrt{2}}(∣01⟩+∣10⟩)$."
   ],
   "metadata": {
    "collapsed": false
   },
   "id": "6cba96b9d1da54f3"
  }
 ],
 "metadata": {
  "kernelspec": {
   "display_name": "Python 3",
   "language": "python",
   "name": "python3"
  },
  "language_info": {
   "codemirror_mode": {
    "name": "ipython",
    "version": 2
   },
   "file_extension": ".py",
   "mimetype": "text/x-python",
   "name": "python",
   "nbconvert_exporter": "python",
   "pygments_lexer": "ipython2",
   "version": "2.7.6"
  }
 },
 "nbformat": 4,
 "nbformat_minor": 5
}
